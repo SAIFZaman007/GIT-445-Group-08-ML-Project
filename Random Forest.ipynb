{
  "nbformat": 4,
  "nbformat_minor": 0,
  "metadata": {
    "colab": {
      "provenance": []
    },
    "kernelspec": {
      "name": "python3",
      "display_name": "Python 3"
    },
    "language_info": {
      "name": "python"
    }
  },
  "cells": [
    {
      "cell_type": "markdown",
      "source": [
        "# New Section"
      ],
      "metadata": {
        "id": "38GFYdUcMLvX"
      }
    },
    {
      "cell_type": "code",
      "source": [
        "import os\n",
        "import cv2  # For image processing\n",
        "import numpy as np\n",
        "import zipfile\n",
        "from matplotlib import pyplot as plt\n",
        "from sklearn.model_selection import train_test_split\n",
        "from sklearn.ensemble import RandomForestClassifier\n",
        "from sklearn.metrics import accuracy_score, classification_report\n",
        "from sklearn.decomposition import PCA  # Dimensionality reduction for image data\n",
        "\n",
        "# Define image directory path and image size\n",
        "from google.colab import drive\n",
        "drive.mount('/content/drive')\n",
        "\n",
        "# Path to the ZIP file in Google Drive\n",
        "zip_path = r'/content/drive/MyDrive/Colab Notebooks/Images.zip'\n",
        "size = (128, 128)\n",
        "with zipfile.ZipFile(zip_path, 'r') as zip_ref:\n",
        "    zip_ref.extractall('/content/')\n",
        "\n",
        "# Assuming 'Images' is the name of the folder inside the ZIP file\n",
        "extracted_folder_name = 'Images' # Change this if the folder name is different\n",
        "\n",
        "# Define the correct path to the extracted images using the extracted folder name\n",
        "path = os.path.join('/content/', extracted_folder_name)\n",
        "\n",
        "# Lists to store images and labels\n",
        "images = []\n",
        "labels = []  # Assuming all images contain stop signs (label = 1)\n",
        "\n",
        "# Load, process, and append images\n",
        "for file_name in os.listdir(path): # Use the 'path' variable here\n",
        "    if file_name.endswith(('.jpg', '.png')):\n",
        "        img_path = os.path.join(path, file_name)\n",
        "        img = cv2.imread(img_path)  # Load image\n",
        "        if img is not None: # Check if image was loaded successfully\n",
        "            gray_img = cv2.cvtColor(img, cv2.COLOR_BGR2GRAY)  # Convert to grayscale\n",
        "            gray_img = cv2.resize(gray_img, size)  # Resize to 128x128\n",
        "            gray_img = gray_img / 255.0  # Normalize pixel values to [0, 1]\n",
        "            images.append(gray_img.flatten())  # Flatten image into 1D vector\n",
        "            labels.append(1)\n",
        "        else:\n",
        "            print(f\"Warning: Could not load image: {img_path}\")\n",
        "\n",
        "# Convert to numpy arrays\n",
        "X = np.array(images)\n",
        "y = np.array(labels)\n",
        "\n",
        "# Split the data into training and test sets\n",
        "X_train, X_test, y_train, y_test = train_test_split(X, y, test_size=0.2, random_state=42)\n",
        "\n",
        "# Dimensionality reduction with PCA (optional but recommended for high-dimensional data)\n",
        "pca = PCA(n_components=38)  # Reduce to 38 principal components (or less)\n",
        "X_train_pca = pca.fit_transform(X_train)\n",
        "X_test_pca = pca.transform(X_test)\n",
        "\n",
        "\n",
        "# Train a Random Forest classifier\n",
        "clf = RandomForestClassifier(n_estimators=100, random_state=42)\n",
        "clf.fit(X_train_pca, y_train)\n",
        "\n",
        "# Predict on the test set\n",
        "y_pred = clf.predict(X_test_pca)\n",
        "\n",
        "# Evaluate the model\n",
        "accuracy = accuracy_score(y_test, y_pred)\n",
        "print(f\"Accuracy: {accuracy * 100:.2f}%\")\n",
        "print(\"Classification Report:\")\n",
        "print(classification_report(y_test, y_pred))"
      ],
      "metadata": {
        "colab": {
          "base_uri": "https://localhost:8080/"
        },
        "id": "OVkPZx68fSbu",
        "outputId": "8f954dde-e375-4bf3-eb17-5a3af32632af"
      },
      "execution_count": 12,
      "outputs": [
        {
          "output_type": "stream",
          "name": "stdout",
          "text": [
            "Drive already mounted at /content/drive; to attempt to forcibly remount, call drive.mount(\"/content/drive\", force_remount=True).\n",
            "Accuracy: 100.00%\n",
            "Classification Report:\n",
            "              precision    recall  f1-score   support\n",
            "\n",
            "           1       1.00      1.00      1.00        10\n",
            "\n",
            "    accuracy                           1.00        10\n",
            "   macro avg       1.00      1.00      1.00        10\n",
            "weighted avg       1.00      1.00      1.00        10\n",
            "\n"
          ]
        }
      ]
    },
    {
      "cell_type": "markdown",
      "source": [],
      "metadata": {
        "id": "Iy-4qQe6hsej"
      }
    }
  ]
}